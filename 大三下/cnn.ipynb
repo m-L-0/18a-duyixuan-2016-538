{
 "cells": [
  {
   "cell_type": "code",
   "execution_count": 1,
   "metadata": {},
   "outputs": [
    {
     "name": "stderr",
     "output_type": "stream",
     "text": [
      "/usr/local/Cellar/python/3.7.2_2/Frameworks/Python.framework/Versions/3.7/lib/python3.7/importlib/_bootstrap.py:219: RuntimeWarning: compiletime version 3.6 of module 'tensorflow.python.framework.fast_tensor_util' does not match runtime version 3.7\n",
      "  return f(*args, **kwds)\n"
     ]
    }
   ],
   "source": [
    "%matplotlib inline\n",
    "\n",
    "import numpy as np\n",
    "from PIL import Image\n",
    "from matplotlib import pyplot as plt\n",
    "\n",
    "import tensorflow as tf"
   ]
  },
  {
   "cell_type": "code",
   "execution_count": 2,
   "metadata": {},
   "outputs": [
    {
     "name": "stdout",
     "output_type": "stream",
     "text": [
      "WARNING:tensorflow:From <ipython-input-2-c4397a1a8086>:2: read_data_sets (from tensorflow.contrib.learn.python.learn.datasets.mnist) is deprecated and will be removed in a future version.\n",
      "Instructions for updating:\n",
      "Please use alternatives such as official/mnist/dataset.py from tensorflow/models.\n",
      "WARNING:tensorflow:From /usr/local/lib/python3.7/site-packages/tensorflow/contrib/learn/python/learn/datasets/mnist.py:260: maybe_download (from tensorflow.contrib.learn.python.learn.datasets.base) is deprecated and will be removed in a future version.\n",
      "Instructions for updating:\n",
      "Please write your own downloading logic.\n",
      "WARNING:tensorflow:From /usr/local/lib/python3.7/site-packages/tensorflow/contrib/learn/python/learn/datasets/mnist.py:262: extract_images (from tensorflow.contrib.learn.python.learn.datasets.mnist) is deprecated and will be removed in a future version.\n",
      "Instructions for updating:\n",
      "Please use tf.data to implement this functionality.\n",
      "Extracting MNIST_data/train-images-idx3-ubyte.gz\n",
      "WARNING:tensorflow:From /usr/local/lib/python3.7/site-packages/tensorflow/contrib/learn/python/learn/datasets/mnist.py:267: extract_labels (from tensorflow.contrib.learn.python.learn.datasets.mnist) is deprecated and will be removed in a future version.\n",
      "Instructions for updating:\n",
      "Please use tf.data to implement this functionality.\n",
      "Extracting MNIST_data/train-labels-idx1-ubyte.gz\n",
      "WARNING:tensorflow:From /usr/local/lib/python3.7/site-packages/tensorflow/contrib/learn/python/learn/datasets/mnist.py:110: dense_to_one_hot (from tensorflow.contrib.learn.python.learn.datasets.mnist) is deprecated and will be removed in a future version.\n",
      "Instructions for updating:\n",
      "Please use tf.one_hot on tensors.\n",
      "Extracting MNIST_data/t10k-images-idx3-ubyte.gz\n",
      "Extracting MNIST_data/t10k-labels-idx1-ubyte.gz\n",
      "WARNING:tensorflow:From /usr/local/lib/python3.7/site-packages/tensorflow/contrib/learn/python/learn/datasets/mnist.py:290: DataSet.__init__ (from tensorflow.contrib.learn.python.learn.datasets.mnist) is deprecated and will be removed in a future version.\n",
      "Instructions for updating:\n",
      "Please use alternatives such as official/mnist/dataset.py from tensorflow/models.\n"
     ]
    }
   ],
   "source": [
    "from tensorflow.examples.tutorials.mnist import input_data\n",
    "mnist = input_data.read_data_sets(\"MNIST_data/\", one_hot=True,reshape=False)"
   ]
  },
  {
   "cell_type": "code",
   "execution_count": 3,
   "metadata": {},
   "outputs": [
    {
     "data": {
      "text/plain": [
       "(55000, 28, 28, 1)"
      ]
     },
     "execution_count": 3,
     "metadata": {},
     "output_type": "execute_result"
    }
   ],
   "source": [
    "mnist.train.images.shape#1是通道数"
   ]
  },
  {
   "cell_type": "code",
   "execution_count": 14,
   "metadata": {},
   "outputs": [],
   "source": [
    "with tf.Graph().as_default() as g:\n",
    "    inputs=tf.placeholder(shape=[None,28,28,1],dtype=tf.float32)\n",
    "    labels=tf.placeholder(shape=[None,10],dtype=tf.float32)#十分类\n",
    "    \n",
    "    #cnn\n",
    "    #第一个卷积的权重\n",
    "    conv1_weight=tf.get_variable('c1_w',[5,5,1,8],dtype=tf.float32)#[5,5,1,8]1输入1，输出8通道使用8个5*5的卷积核每个卷积核有1个通道\n",
    "    #diyigebianzhizhi\n",
    "    conv1_bias=tf.get_variable('c1_b',[8],dtype=tf.float32)#8个图分别加一个bias\n",
    "    \n",
    "    #第一层卷积\n",
    "    conv1=tf.nn.conv2d(inputs,conv1_weight,[1,1,1,1],'VALID')\n",
    "    conv1=tf.nn.relu(conv1+conv1_bias)#激活函数是relu，偏置值bias\n",
    "    #输出shape=[none,24,24,8] 8片\n",
    "    \n",
    "    #池化\n",
    "    pool1=tf.nn.max_pool(conv1,[1,2,2,1],[1,2,2,1],'SAME')#输入，滑窗，步长，处理方式\n",
    "    #输出shape=[None,12,12,8]\n",
    "    \n",
    "    \n",
    "    #第二层卷积\n",
    "    #权重\n",
    "    conv2_weight=tf.get_variable('c2_w',[5,5,8,16],dtype=tf.float32)#[5,5,8,16]8输入8，输出16通道使用16个5*5的卷积核每个卷积核有8个通道\n",
    "    #第二层偏置\n",
    "    conv2_bias=tf.get_variable('c2_b',[16],dtype=tf.float32)#16个图分别加一个bias\n",
    "    \n",
    "    #第二层卷积\n",
    "    conv2=tf.nn.conv2d(pool1,conv2_weight,[1,1,1,1],'VALID')\n",
    "    conv2=tf.nn.relu(conv2+conv2_bias)#激活函数是relu，偏置值bias\n",
    "    #输出【none,8,8,16】\n",
    "    \n",
    "    #池化\n",
    "    pool2=tf.nn.max_pool(conv2,[1,2,2,1],[1,2,2,1],'SAME')#输入，滑窗，步长，处理方式\n",
    "    #输出shape=[none,4,4,16]\n",
    "    \n",
    "    \n",
    "    #为了衔接全连接输出，把shape变成二维\n",
    "    tmp=tf.reshape(pool2,[-1,4*4*16])\n",
    "    #或者\n",
    "   # pool2_shape=tf.shape(pool2)\n",
    "    #tmp=tf.reshape(pool2,pool2_shape[1]*pool2_shape[2]*pool2_shape[3])\n",
    "    \n",
    "    #全连接层\n",
    "    logits = tf.keras.layers.Dense(10, activation=None)(tmp)\n",
    "    output=tf.nn.softmax(logits)\n",
    "    \n",
    "    \n",
    "    saver = tf.train.Saver()\n",
    "    \n",
    "    #代价函数   \n",
    "    loss = tf.reduce_mean(-1 * tf.reduce_sum(\n",
    "        labels * tf.log(output + 1e-7),\n",
    "        axis=1))\n",
    "     #正确率衡量准确性\n",
    "    acc=tf.reduce_mean(\n",
    "        tf.cast(\n",
    "        tf.equal( tf.argmax(output,axis=1) ,tf.argmax(labels,axis=1) )  #比较输出和标记是否相等\n",
    "        ,tf.float32)#把返回值转为float32类型\n",
    "    )#reduce_mean会把所有的都加起来求和\n",
    "    "
   ]
  },
  {
   "cell_type": "code",
   "execution_count": 15,
   "metadata": {},
   "outputs": [],
   "source": [
    "#tf.nn.conv2d??"
   ]
  },
  {
   "cell_type": "code",
   "execution_count": 16,
   "metadata": {},
   "outputs": [],
   "source": [
    "##tf.nn.avg_pool??"
   ]
  },
  {
   "cell_type": "code",
   "execution_count": 18,
   "metadata": {},
   "outputs": [
    {
     "name": "stdout",
     "output_type": "stream",
     "text": [
      "step     0, loss 2.2614, acc 0.1634\n",
      "step   500, loss 0.4207, acc 0.8767\n",
      "step  1000, loss 0.1884, acc 0.9169\n",
      "step  1500, loss 0.1516, acc 0.9320\n",
      "step  2000, loss 0.1683, acc 0.9478\n",
      "step  2500, loss 0.1531, acc 0.9513\n",
      "step  3000, loss 0.1095, acc 0.9607\n",
      "step  3500, loss 0.0324, acc 0.9604\n",
      "step  4000, loss 0.0152, acc 0.9621\n",
      "step  4500, loss 0.2760, acc 0.9690\n",
      "step  5000, loss 0.0140, acc 0.9704\n",
      "step  5500, loss 0.0545, acc 0.9704\n",
      "step  6000, loss 0.0421, acc 0.9706\n",
      "step  6500, loss 0.0257, acc 0.9731\n",
      "step  7000, loss 0.0247, acc 0.9743\n",
      "step  7500, loss 0.0941, acc 0.9752\n",
      "step  8000, loss 0.0485, acc 0.9775\n",
      "step  8500, loss 0.0336, acc 0.9757\n",
      "step  9000, loss 0.0631, acc 0.9763\n",
      "step  9500, loss 0.0725, acc 0.9752\n",
      "step 10000, loss 0.0546, acc 0.9787\n",
      "step 10500, loss 0.0515, acc 0.9771\n",
      "step 11000, loss 0.0663, acc 0.9787\n",
      "step 11500, loss 0.0761, acc 0.9779\n",
      "step 12000, loss 0.1183, acc 0.9799\n",
      "step 12500, loss 0.0108, acc 0.9797\n",
      "step 13000, loss 0.0861, acc 0.9802\n",
      "step 13500, loss 0.0054, acc 0.9791\n",
      "step 14000, loss 0.2116, acc 0.9802\n",
      "step 14500, loss 0.0057, acc 0.9811\n",
      "step 15000, loss 0.0057, acc 0.9790\n",
      "step 15500, loss 0.0369, acc 0.9821\n",
      "step 16000, loss 0.0317, acc 0.9826\n",
      "step 16500, loss 0.0147, acc 0.9808\n",
      "step 17000, loss 0.0288, acc 0.9819\n",
      "step 17500, loss 0.0361, acc 0.9806\n",
      "step 18000, loss 0.0022, acc 0.9822\n",
      "step 18500, loss 0.0607, acc 0.9822\n",
      "step 19000, loss 0.2385, acc 0.9811\n",
      "step 19500, loss 0.0746, acc 0.9824\n"
     ]
    }
   ],
   "source": [
    "with tf.Session(graph=g) as sess:\n",
    "    # 定义梯度下降法优化器\n",
    "    optim = tf.train.GradientDescentOptimizer(learning_rate=0.01)\n",
    "    train_op = optim.minimize(loss)\n",
    "    sess.run(tf.global_variables_initializer())\n",
    "    \n",
    "    # 训练模型\n",
    "    for step in range(20000):\n",
    "        batch_images, batch_labels = mnist.train.next_batch(32)\n",
    "        res_loss, _ = sess.run([loss, train_op], feed_dict={\n",
    "            inputs: batch_images,\n",
    "            labels: batch_labels\n",
    "        })\n",
    "        \n",
    "        # 输出代价并验证模型\n",
    "        if step % 500 == 0:\n",
    "            accs = []\n",
    "            for test_step in range(10000 // 32):\n",
    "                batch_images, batch_labels = mnist.test.next_batch(32)\n",
    "                res_acc = sess.run(acc, feed_dict={\n",
    "                    inputs: batch_images,\n",
    "                    labels: batch_labels\n",
    "                })\n",
    "                accs.append(res_acc)\n",
    "            accs = np.mean(accs)\n",
    "            print('step %5d, loss %2.4f, acc %.4f' % (step, res_loss, accs))\n",
    "           # saver.save(sess, 'conv_ckpt')   "
   ]
  },
  {
   "cell_type": "code",
   "execution_count": 19,
   "metadata": {},
   "outputs": [],
   "source": [
    "tf.keras.layers.Dense??"
   ]
  },
  {
   "cell_type": "code",
   "execution_count": null,
   "metadata": {},
   "outputs": [],
   "source": []
  }
 ],
 "metadata": {
  "kernelspec": {
   "display_name": "Python 3",
   "language": "python",
   "name": "python3"
  },
  "language_info": {
   "codemirror_mode": {
    "name": "ipython",
    "version": 3
   },
   "file_extension": ".py",
   "mimetype": "text/x-python",
   "name": "python",
   "nbconvert_exporter": "python",
   "pygments_lexer": "ipython3",
   "version": "3.7.2"
  }
 },
 "nbformat": 4,
 "nbformat_minor": 2
}
