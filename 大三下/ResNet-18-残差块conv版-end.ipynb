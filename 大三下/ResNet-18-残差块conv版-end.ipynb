{
 "cells": [
  {
   "cell_type": "code",
   "execution_count": 1,
   "metadata": {},
   "outputs": [
    {
     "name": "stderr",
     "output_type": "stream",
     "text": [
      "/usr/local/Cellar/python/3.7.2_2/Frameworks/Python.framework/Versions/3.7/lib/python3.7/importlib/_bootstrap.py:219: RuntimeWarning: compiletime version 3.6 of module 'tensorflow.python.framework.fast_tensor_util' does not match runtime version 3.7\n",
      "  return f(*args, **kwds)\n",
      "Using TensorFlow backend.\n"
     ]
    }
   ],
   "source": [
    "import tensorflow as tf\n",
    "import keras"
   ]
  },
  {
   "cell_type": "code",
   "execution_count": 2,
   "metadata": {},
   "outputs": [],
   "source": [
    "def identity(inputs,kernel_size,in_filter,out_filter,strides):\n",
    "    x_shortcut=inputs\n",
    "    kernel_size=[1,1,in_filter,out_filter]\n",
    "    #一层卷积一层relu一层卷积(每层卷积后可以加BN)\n",
    "    \n",
    "    conv1=tf.nn.conv2d(inputs, kernel_size,stride=strides, padding='SAME')\n",
    "    \n",
    "    x=tf.nn.relu(conv1)\n",
    "    conv2=tf.nn.conv2d(inputs,kernel_size,stride=strides,padding='VALID')\n",
    "    \n",
    "    add=conv2 + x_shortcut\n",
    "    result=tf.nn.relu(add)\n",
    "    \n",
    "    return result"
   ]
  },
  {
   "cell_type": "code",
   "execution_count": 4,
   "metadata": {},
   "outputs": [],
   "source": [
    "def convblock(inputs ,in_filter,out_filter,strides):\n",
    "    kernel_size=[3,3,in_filter,out_filter]\n",
    "    \n",
    "    x=tf.nn.conv2d(inputs,kernel_size,stride=strides,padding='VALID')\n",
    "    X = tf.layers.batch_normalization(inputs, axis=3, training=True)\n",
    "    #x_shortcut用来记录x，以便后来相加\n",
    "    x_shoutcut=x\n",
    "    \n",
    "    x=tf.nn.conv2d(inputs,kernel_size,strides=strides,padding='SAME')\n",
    "    X = tf.layers.batch_normalization(inputs, axis=3, training=True)\n",
    "    x=tf.nn.relu(x)\n",
    "    \n",
    "    \n",
    "    x=tf.nn.conv2d(x,kernel_size,strides=strides,padding='VALID')\n",
    "    X = tf.layers.batch_normalization(x, axis=3, training=True)\n",
    "    \n",
    "    \n",
    "    add=x_shortcut+x\n",
    "    result=tf.nn.relu(add)"
   ]
  },
  {
   "cell_type": "code",
   "execution_count": null,
   "metadata": {},
   "outputs": [],
   "source": [
    "with tf.Graph().as_default() as g:\n",
    "   # x=tf.placeholder(shape=[None,height,width,in_channels],dtype=tf.float32)"
   ]
  },
  {
   "cell_type": "code",
   "execution_count": 5,
   "metadata": {},
   "outputs": [],
   "source": [
    "#tf.layers.batch_normalization??\n"
   ]
  },
  {
   "cell_type": "code",
   "execution_count": null,
   "metadata": {},
   "outputs": [],
   "source": []
  }
 ],
 "metadata": {
  "kernelspec": {
   "display_name": "Python 3",
   "language": "python",
   "name": "python3"
  },
  "language_info": {
   "codemirror_mode": {
    "name": "ipython",
    "version": 3
   },
   "file_extension": ".py",
   "mimetype": "text/x-python",
   "name": "python",
   "nbconvert_exporter": "python",
   "pygments_lexer": "ipython3",
   "version": "3.7.2"
  }
 },
 "nbformat": 4,
 "nbformat_minor": 2
}
