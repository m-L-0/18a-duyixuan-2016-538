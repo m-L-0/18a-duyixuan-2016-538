{
 "cells": [
  {
   "cell_type": "markdown",
   "metadata": {},
   "source": [
    "### 数据集iris的导入及处理"
   ]
  },
  {
   "cell_type": "code",
   "execution_count": null,
   "metadata": {},
   "outputs": [],
   "source": [
    "from sklearn import datasets\n",
    "from sklearn.cluster import AgglomerativeClustering\n",
    "\n",
    "iris = datasets.load_iris()\n",
    "labels = iris.target\n",
    "features = iris.data\n",
    "#pca降维\n",
    "from sklearn.decomposition import PCA\n",
    "pca = PCA(n_components=2)\n",
    "pca.fit(features)\n",
    "irisdata= pca.transform(features)"
   ]
  },
  {
   "cell_type": "markdown",
   "metadata": {},
   "source": [
    "### 原始数据可视化"
   ]
  },
  {
   "cell_type": "code",
   "execution_count": 4,
   "metadata": {},
   "outputs": [],
   "source": [
    "features_1 = plt.scatter(irisdata[0:50, 0], irisdata[0:50, 1],marker='o')\n",
    "features_2 = plt.scatter(irisdata[51:100, 0], irisdata[51:100, 1],marker='ve')\n",
    "features_3 = plt.scatter(irisdata[101:149, 0], irisdata[101:149, 1],marker='vi')\n",
    "plt.legend(handles=[features_1, features_2,features_3], labels=['setosa', 'versicolor', 'virginica'],  loc='best')\n",
    "plt.plot()"
   ]
  },
  {
   "cell_type": "markdown",
   "metadata": {},
   "source": [
    "### 一、markov聚类的过程"
   ]
  },
  {
   "cell_type": "markdown",
   "metadata": {},
   "source": [
    "算法实现步骤：\n"
   ]
  },
  {
   "cell_type": "markdown",
   "metadata": {},
   "source": [
    "1.输入一个无向图，Expansion的幂e（此项目用expand_factor）和Inflation的参数r（inflate_factor）\n"
   ]
  },
  {
   "cell_type": "markdown",
   "metadata": {},
   "source": [
    "2.创建邻接矩阵"
   ]
  },
  {
   "cell_type": "markdown",
   "metadata": {},
   "source": [
    "3.对每个结点添加自循环"
   ]
  },
  {
   "cell_type": "markdown",
   "metadata": {},
   "source": [
    "4.标准化矩阵（每个元素除以所在列的所有元素之和）"
   ]
  },
  {
   "cell_type": "markdown",
   "metadata": {},
   "source": [
    "5.计算矩阵的第e次幂"
   ]
  },
  {
   "cell_type": "markdown",
   "metadata": {},
   "source": [
    "6.用参数r(此项目中用inflate_factor替代r)对求得的矩阵进行Inflation处理，"
   ]
  },
  {
   "cell_type": "markdown",
   "metadata": {},
   "source": [
    "7.重复第5步和第6步，直到状态稳定不变（收敛）"
   ]
  },
  {
   "cell_type": "markdown",
   "metadata": {},
   "source": [
    "8.把最终结果矩阵转换成聚簇。"
   ]
  },
  {
   "cell_type": "markdown",
   "metadata": {},
   "source": [
    "代码实现："
   ]
  },
  {
   "cell_type": "code",
   "execution_count": null,
   "metadata": {},
   "outputs": [],
   "source": [
    "#构建邻接矩阵\n",
    "def get_graph(csv_filename):\n",
    "    import networkx as nx\n",
    "\n",
    "    M = []\n",
    "    for r in open(csv_filename):\n",
    "        r = r.strip().split(\",\")\n",
    "        M.append(list(map(lambda x: float(x.strip()), r)))\n",
    "\n",
    "    G = nx.from_numpy_matrix(np.matrix(M))\n",
    "    return np.array(M), G\n",
    "#inflation矩阵\n",
    "def inflate(A, inflate_factor):\n",
    "    return normalize(np.power(A, inflate_factor))\n",
    "#扩展矩阵\n",
    "def expand(A, expand_factor):\n",
    "    return np.linalg.matrix_power(A, expand_factor)\n",
    "\n",
    "def add_diag(A, mult_factor):\n",
    "    return A + mult_factor * np.identity(A.shape[0])\n",
    "#markov聚类\n",
    "def get_clusters(A):\n",
    "    clusters = []\n",
    "    for i, r in enumerate((A>0).tolist()):\n",
    "        if r[i]:\n",
    "            clusters.append(A[i,:]>0)\n",
    "\n",
    "    clust_map  ={}\n",
    "    for cn , c in enumerate(clusters):\n",
    "        for x in  [ i for i, x in enumerate(c) if x ]:\n",
    "            clust_map[cn] = clust_map.get(cn, [])  + [x]\n",
    "    return clust_map\n",
    "\n",
    "#可视化\n",
    "def draw(G, A, cluster_map):\n",
    "    import networkx as nx\n",
    "    import matplotlib.pyplot as plt\n",
    "\n",
    "    clust_map = {}\n",
    "    for k, vals in cluster_map.items():\n",
    "        for v in vals:\n",
    "            clust_map[v] = k\n",
    "\n",
    "    colors = []\n",
    "    for i in range(len(G.nodes())):\n",
    "        colors.append(clust_map.get(i, 100))\n",
    "\n",
    "    pos = nx.spring_layout(G)\n",
    "\n",
    "    from matplotlib.pylab import matshow, show, cm\n",
    "    plt.figure(2)\n",
    "    nx.draw_networkx_nodes(G, pos,node_size = 200, node_color =colors , cmap=plt.cm.Blues )\n",
    "    nx.draw_networkx_edges(G,pos, alpha=0.5)\n",
    "    matshow(A, fignum=1, cmap=cm.gray)\n",
    "    plt.show()\n",
    "    show()\n",
    "    \n",
    " #停止条件\n",
    "def stop(M, i):\n",
    "\n",
    "    if i%5==4:\n",
    "        m = np.max( M**2 - M) - np.min( M**2 - M)\n",
    "        if m==0:\n",
    "            logging.info(\"Stop at iteration %s\" % i)\n",
    "            return True\n",
    "\n",
    "    return False\n",
    "def mcl(M, expand_factor = 2, inflate_factor = 2, max_loop = 10 , mult_factor = 1):\n",
    "    M = add_diag(M, mult_factor)\n",
    "    M = normalize(M)\n",
    "\n",
    "    for i in range(max_loop):\n",
    "        logging.info(\"loop %s\" % i)\n",
    "        M = inflate(M, inflate_factor)\n",
    "        M = expand(M, expand_factor)\n",
    "        if stop(M, i): break\n",
    "\n",
    "    clusters = get_clusters(M)\n",
    "    return M, clusters\n",
    "\n",
    "def networkx_mcl(G, expand_factor = 2, inflate_factor = 2, max_loop = 10 , mult_factor = 1):\n",
    "    import networkx as nx\n",
    "    A = nx.adjacency_matrix(G)\n",
    "    return mcl(np.array(A.todense()), expand_factor, inflate_factor, max_loop, mult_factor)\n",
    "\n"
   ]
  },
  {
   "cell_type": "markdown",
   "metadata": {},
   "source": [
    "### 参数（expand_factor和inflate_factor）的选择：\n",
    "            使用格点搜索法，试验结果表明e=2,r=2时效果较好"
   ]
  },
  {
   "cell_type": "markdown",
   "metadata": {},
   "source": [
    "### 聚类的评估\n",
    "def acc():\n",
    "    return accuracy_score(labels,lable) "
   ]
  },
  {
   "cell_type": "code",
   "execution_count": null,
   "metadata": {},
   "outputs": [],
   "source": []
  }
 ],
 "metadata": {
  "kernelspec": {
   "display_name": "Python 3",
   "language": "python",
   "name": "python3"
  },
  "language_info": {
   "codemirror_mode": {
    "name": "ipython",
    "version": 3
   },
   "file_extension": ".py",
   "mimetype": "text/x-python",
   "name": "python",
   "nbconvert_exporter": "python",
   "pygments_lexer": "ipython3",
   "version": "3.7.1"
  }
 },
 "nbformat": 4,
 "nbformat_minor": 2
}
