{
 "cells": [
  {
   "cell_type": "code",
   "execution_count": 1,
   "metadata": {},
   "outputs": [
    {
     "name": "stderr",
     "output_type": "stream",
     "text": [
      "/usr/local/Cellar/python/3.7.1/Frameworks/Python.framework/Versions/3.7/lib/python3.7/importlib/_bootstrap.py:219: RuntimeWarning: compiletime version 3.6 of module 'tensorflow.python.framework.fast_tensor_util' does not match runtime version 3.7\n",
      "  return f(*args, **kwds)\n"
     ]
    }
   ],
   "source": [
    "import tensorflow as tf"
   ]
  },
  {
   "cell_type": "code",
   "execution_count": 2,
   "metadata": {},
   "outputs": [],
   "source": [
    "a=tf.placeholder(tf.float32)\n",
    "b=tf.placeholder(tf.float32)"
   ]
  },
  {
   "cell_type": "code",
   "execution_count": null,
   "metadata": {},
   "outputs": [],
   "source": [
    "def max(a,b):\n",
    "        def conm(a,b):\n",
    "            return tf.equal(a.shape,b,shape)\n",
    "        def body(a,b):\n",
    "            tensor=tf.where(tf.greater(a,b),\n",
    "                            a,\n",
    "                            b)\n",
    "            return tensor\n",
    "    \n",
    "        def er:\n",
    "            return error\n",
    "    case1=(conm,body)\n",
    "    case2=(tf.not_equl(a.shape,b.shape),er)\n",
    "    return tf.case([case1,case2])"
   ]
  },
  {
   "cell_type": "code",
   "execution_count": null,
   "metadata": {},
   "outputs": [],
   "source": [
    "tf.maximum：用法tf.maximum(a,b),返回的是a,b之间的最大值，返回的shape与a相同\n",
    "tf.miniimum：用法tf.miiinimum(a,b),返回的是a,b之间的最小值"
   ]
  },
  {
   "cell_type": "code",
   "execution_count": 4,
   "metadata": {},
   "outputs": [
    {
     "name": "stdout",
     "output_type": "stream",
     "text": [
      "[3 5 3]\n",
      "[0 0 0]\n"
     ]
    }
   ],
   "source": [
    "a = [1,5,3]  \n",
    "  \n",
    "f1 = tf.maximum(a, 3)  \n",
    "f2 = tf.minimum(a, 0)\n",
    "\n",
    "with tf.Session() as sess:  \n",
    "    print(sess.run(f1))  \n",
    "    print(sess.run(f2))"
   ]
  },
  {
   "cell_type": "markdown",
   "metadata": {},
   "source": [
    "#### 了解`TensorArray`的基本用法，并尝试配合`tf.while_loop`配合使用。"
   ]
  },
  {
   "cell_type": "code",
   "execution_count": null,
   "metadata": {},
   "outputs": [],
   "source": [
    "time=tf.Variable(0)\n",
    "out=tf.TensorArray(dtype=tf.float32,size=1,dynamic_size=True)\n",
    "def cond(time,out):\n",
    "    return tf.less(time,5)\n",
    "def body(time,out):\n",
    "    out=out.write(time,[1.0,5.5])\n",
    "    return time+1,out\n",
    "\n",
    "last_time,last_out=tf.while_loop(cond,body,[time,out])\n",
    "final_out=last_out.stack()\n",
    "\n",
    "tf.global_variables_initializer()"
   ]
  }
 ],
 "metadata": {
  "kernelspec": {
   "display_name": "Python 3",
   "language": "python",
   "name": "python3"
  },
  "language_info": {
   "codemirror_mode": {
    "name": "ipython",
    "version": 3
   },
   "file_extension": ".py",
   "mimetype": "text/x-python",
   "name": "python",
   "nbconvert_exporter": "python",
   "pygments_lexer": "ipython3",
   "version": "3.7.1"
  }
 },
 "nbformat": 4,
 "nbformat_minor": 2
}
