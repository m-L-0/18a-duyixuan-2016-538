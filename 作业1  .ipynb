{
 "cells": [
  {
   "cell_type": "markdown",
   "metadata": {},
   "source": [
    "图与会话\n",
    "1.在一个notebook文件中构建一张图，实现两个数的加法操作，并在两个不同的会话中执行图"
   ]
  },
  {
   "cell_type": "code",
   "execution_count": 19,
   "metadata": {},
   "outputs": [
    {
     "name": "stdout",
     "output_type": "stream",
     "text": [
      "46\n",
      "46\n"
     ]
    }
   ],
   "source": [
    "#引库\n",
    "import tensorflow as tf\n",
    "#创建图\n",
    "a=tf.add(12,34)\n",
    "#c创建第一个会话\n",
    "sess1=tf.Session()\n",
    "res1=sess1.run(a)#执行\n",
    "print(res1)\n",
    "#关闭第一个会话\n",
    "sess1.close()\n",
    "#创建第二个会话\n",
    "with tf.Session() as sess2:\n",
    "    print(sess2.run(a))\n",
    "#关闭第二个会话\n",
    "    sess2.close()"
   ]
  },
  {
   "cell_type": "markdown",
   "metadata": {},
   "source": [
    "2.查找资料学习TensorFlow中执行常量基本运算API的基本用法，如tf.add、tf.subtract、tf.multiply、tf.divide、tf.mod、tf.pow、tf.square、tf.sqrt等的用法，并在notebook中演示其基本用法"
   ]
  },
  {
   "cell_type": "code",
   "execution_count": 29,
   "metadata": {},
   "outputs": [],
   "source": [
    "a=tf.constant(1)\n",
    "b=tf.constant(2)\n",
    "c=tf.constant(3.0)\n",
    "d=tf.constant(5.01)\n",
    "e=tf.constant([[1,0],[0,1]])\n",
    "f=tf.constant([[11,12],[3,4]])\n",
    "#g=tf.constant(1+i)    #报错\n",
    "#加法\n",
    "add=tf.add(a,b)\n",
    "#减法\n",
    "sub=tf.subtract(d,c)\n",
    "#乘法\n",
    "mul=tf.multiply(add,b)\n",
    "mult=tf.multiply(e,f)\n",
    "#除法\n",
    "div=tf.divide(c,d)\n",
    "#取余\n",
    "mod=tf.mod(add,mult)\n",
    "#幂\n",
    "po=tf.pow(1,2)\n",
    "#乘方\n",
    "squ=tf.square(mod)\n",
    "#开方\n",
    "sqr=tf.sqrt(d)#参数必须为float or complex\n",
    "#sqr1=tf.sqrt(g)"
   ]
  },
  {
   "cell_type": "markdown",
   "metadata": {},
   "source": [
    "图的边与节点\n",
    "有一4阶张量img其shape=[10, 28, 28, 3])，代表10张28*28像素的3通道RGB图像，问："
   ]
  },
  {
   "cell_type": "markdown",
   "metadata": {},
   "source": [
    "\n",
    "#1. 如何利用索引取出第2张图片？（注意：索引均从0开始，第二张则索引为1，下同）\n",
    "img[1]\n",
    "\n",
    "#2.如何利用切片取出第2张图片？\n",
    "\n",
    "tf.slice(img,[1,0,0,0],[1,28,28,3])\n",
    "\n",
    "#3.使用切片与使用索引取出的一张图片有何不同？\n",
    "  。。。。。。。。。\n",
    "#4. 如何取出其中的第1、3、5、7张图片？\n",
    "\n",
    "img[0:8;2] \n",
    "\n",
    "#5. 如何取出第6-8张（包括6不包括8）图片中中心区域（14*14）的部分？\n",
    "\n",
    "img[5:7,7:21,7:21]\n",
    "\n",
    "#6. 如何将图片根据通道拆分成三份单通道图片？\n",
    "\n",
    "tf.slice(img,[0,0,0,0],[10,28,28,0])\n",
    "tf.slice(img,[0,0,0,1],[10,28,28,1])\n",
    "tf.slice(img,[0,0,0,2],[10,28,28,2])\n",
    "\n",
    "#7. 写出`tf.shape(img)`返回的张量的阶数以及`shape`属性的值。\n",
    " rank:4\n",
    " shape:[10,28,28,3]\n",
    " \n",
    " "
   ]
  },
  {
   "cell_type": "code",
   "execution_count": null,
   "metadata": {
    "collapsed": true
   },
   "outputs": [],
   "source": []
  },
  {
   "cell_type": "code",
   "execution_count": null,
   "metadata": {
    "collapsed": true
   },
   "outputs": [],
   "source": []
  },
  {
   "cell_type": "code",
   "execution_count": null,
   "metadata": {
    "collapsed": true
   },
   "outputs": [],
   "source": []
  },
  {
   "cell_type": "code",
   "execution_count": null,
   "metadata": {
    "collapsed": true
   },
   "outputs": [],
   "source": []
  }
 ],
 "metadata": {
  "kernelspec": {
   "display_name": "Python 3",
   "language": "python",
   "name": "python3"
  },
  "language_info": {
   "codemirror_mode": {
    "name": "ipython",
    "version": 3
   },
   "file_extension": ".py",
   "mimetype": "text/x-python",
   "name": "python",
   "nbconvert_exporter": "python",
   "pygments_lexer": "ipython3",
   "version": "3.6.3"
  }
 },
 "nbformat": 4,
 "nbformat_minor": 2
}
