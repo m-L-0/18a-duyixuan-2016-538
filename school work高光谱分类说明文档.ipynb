{
 "cells": [
  {
   "cell_type": "markdown",
   "metadata": {},
   "source": [
    "### 一、数据分析"
   ]
  },
  {
   "cell_type": "markdown",
   "metadata": {},
   "source": [
    "1.对于给定的200维数据，先粗略地查看其数据分布\n",
    "常用函数：data.describe()、data.info()、"
   ]
  },
  {
   "cell_type": "markdown",
   "metadata": {},
   "source": [
    "2.因维数过高，所以我们考虑对数据做相关性分析，以便去掉不相关或对结果影响不大的列，"
   ]
  },
  {
   "cell_type": "markdown",
   "metadata": {},
   "source": [
    "这里我们常用函数库seaborn、matplotlib来绘制图像以便于可视化"
   ]
  },
  {
   "cell_type": "markdown",
   "metadata": {},
   "source": [
    "具体代码：dataicorr= datai.corr()；\n",
    "               sns.heatmap(dataicorr)"
   ]
  },
  {
   "cell_type": "markdown",
   "metadata": {},
   "source": [
    "从可视化后的图片可以看出，几乎所有的特征都与结果有明显的相关性"
   ]
  },
  {
   "cell_type": "markdown",
   "metadata": {},
   "source": [
    "### 二、数据降维"
   ]
  },
  {
   "cell_type": "markdown",
   "metadata": {},
   "source": [
    "降维的方法有mds，svd，pca等，这里我们选用最常见的pca，\n",
    "pca参数的确定：\n",
    "                pca调参的过程我选的是暴力挑参法，经试验结果表明，pca默认的参数效果最好"
   ]
  },
  {
   "cell_type": "markdown",
   "metadata": {},
   "source": [
    "### 三、数据预处理"
   ]
  },
  {
   "cell_type": "markdown",
   "metadata": {},
   "source": [
    "读入数据后，分离数据属性集和标签，以便于训练和数据预处理，标签要进行dataframe编码"
   ]
  },
  {
   "cell_type": "markdown",
   "metadata": {},
   "source": [
    "### 四、模型的选择"
   ]
  },
  {
   "cell_type": "markdown",
   "metadata": {},
   "source": [
    "集成学习的结果要优于其他学习模型，调参后gbdt在此次问题中的表现优于其他模型，所以在此次实际问题中选取的模型为调参后的gbdt"
   ]
  },
  {
   "cell_type": "code",
   "execution_count": null,
   "metadata": {},
   "outputs": [],
   "source": [
    "参数选择的结果为：learning_rate=0.1,\n",
    "    n_estimators=100,\n",
    "    subsample=1,\n",
    "    min_samples_split=2,\n",
    "    min_samples_leaf=1,\n",
    "    max_depth=3,\n",
    "    init=None, \n",
    "    random_state=None,\n",
    "    max_features=None,\n",
    "    verbose=0,\n",
    "    max_leaf_nodes=None, \n",
    "    warm_start=False"
   ]
  }
 ],
 "metadata": {
  "kernelspec": {
   "display_name": "Python 3",
   "language": "python",
   "name": "python3"
  },
  "language_info": {
   "codemirror_mode": {
    "name": "ipython",
    "version": 3
   },
   "file_extension": ".py",
   "mimetype": "text/x-python",
   "name": "python",
   "nbconvert_exporter": "python",
   "pygments_lexer": "ipython3",
   "version": "3.7.1"
  }
 },
 "nbformat": 4,
 "nbformat_minor": 2
}
